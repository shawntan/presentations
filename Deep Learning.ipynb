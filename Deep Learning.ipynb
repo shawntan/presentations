{
 "metadata": {
  "celltoolbar": "Slideshow",
  "name": "",
  "signature": "sha256:208f1a2b85e5981c97f4295d77fec70527ab621231a6dd5593bbda3b6d32a346"
 },
 "nbformat": 3,
 "nbformat_minor": 0,
 "worksheets": [
  {
   "cells": [
    {
     "cell_type": "code",
     "collapsed": false,
     "input": [
      "%matplotlib inline\n",
      "from IPython.display import *\n",
      "from IPython.display import YouTubeVideo"
     ],
     "language": "python",
     "metadata": {
      "slideshow": {
       "slide_type": "skip"
      }
     },
     "outputs": [],
     "prompt_number": 15
    },
    {
     "cell_type": "heading",
     "level": 1,
     "metadata": {
      "slideshow": {
       "slide_type": "slide"
      }
     },
     "source": [
      "Deep Learning"
     ]
    },
    {
     "cell_type": "markdown",
     "metadata": {
      "slideshow": {
       "slide_type": "slide"
      }
     },
     "source": [
      "\n",
      "##`$ finger shawntan`\n",
      "(by the way, `finger` is totally the correct command to use here, `whoami` doesn't make sense at all.)\n",
      "```\n",
      "Login name: shawntan                    In real life: Tan Jing Shan,Shawn\n",
      "\n",
      "Occupation: Research Assistant @ SoC (Speech Recognition Group)\n",
      "\n",
      "- Graduated from NUS\n",
      "- Ex-coreteam member\n",
      "- Worked at Semantics3\n",
      "\n",
      "Research Interests: \n",
      "- Neural Networks\n",
      "- Machine Learning\n",
      "- Natural Language Processing\n",
      "- Artificial Intelligence\n",
      "```\n",
      "## PLEASE interrupt me if you don't geddit. It helps."
     ]
    },
    {
     "cell_type": "markdown",
     "metadata": {
      "slideshow": {
       "slide_type": "slide"
      }
     },
     "source": [
      "<img src=\"images/ainews.png\"/>"
     ]
    },
    {
     "cell_type": "markdown",
     "metadata": {},
     "source": [
      "## What is Deep Learning?\n",
      "<img src=\"http://i2.kym-cdn.com/photos/images/facebook/000/531/557/a88.jpg\"></img>"
     ]
    },
    {
     "cell_type": "markdown",
     "metadata": {
      "slideshow": {
       "slide_type": "slide"
      }
     },
     "source": [
      "## Google+ Image Search\n",
      "<img src=\"images/car_g+.png\"></img>"
     ]
    },
    {
     "cell_type": "markdown",
     "metadata": {
      "slideshow": {
       "slide_type": "slide"
      }
     },
     "source": [
      "## Google Speech Recognition\n",
      "\n",
      "<div align=\"center\">\n",
      "<img src=\"images/speech1.png\" style=\"width:40%;display:inline;\"></img>\n",
      "<img src=\"images/speech2.png\" style=\"width:40%;display:inline;margin-top:0px\"></img>\n",
      "</div>"
     ]
    },
    {
     "cell_type": "markdown",
     "metadata": {
      "slideshow": {
       "slide_type": "slide"
      }
     },
     "source": [
      "## Google Streetview House Number Identification\n",
      "<img src=\"images/Streetview.png\"></img>"
     ]
    },
    {
     "cell_type": "markdown",
     "metadata": {
      "slideshow": {
       "slide_type": "slide"
      }
     },
     "source": [
      "## How does it actually work?"
     ]
    },
    {
     "cell_type": "markdown",
     "metadata": {
      "slideshow": {
       "slide_type": "slide"
      }
     },
     "source": [
      "## Detour into Machine Learning: Linear classifiers\n",
      "\n",
      "<img src=\"https://upload.wikimedia.org/wikipedia/commons/thumb/2/20/Svm_separating_hyperplanes.png/628px-Svm_separating_hyperplanes.png\"></img>"
     ]
    },
    {
     "cell_type": "markdown",
     "metadata": {
      "slideshow": {
       "slide_type": "slide"
      }
     },
     "source": [
      "## Logistic Regression / Perceptron / Single-layer Neural Network\n",
      "<img src=\"http://i.stack.imgur.com/1c2Mb.png\"></img>\n"
     ]
    },
    {
     "cell_type": "markdown",
     "metadata": {
      "slideshow": {
       "slide_type": "slide"
      }
     },
     "source": [
      "## Perceptron - Frank Rosenblatt (1958)\n",
      "<img src=\"http://csis.pace.edu/~ctappert/srd2011/photos/Rosenblatt-CAL1958.jpg\"></img>"
     ]
    },
    {
     "cell_type": "markdown",
     "metadata": {
      "slideshow": {
       "slide_type": "slide"
      }
     },
     "source": [
      "##XOR problem: The case of Linear (in)separability \n",
      "\n",
      "<table>\n",
      "<thead>\n",
      "<tr><td>input 1</td><td>input 2</td><td>OR</td><td>AND</td><td>XOR</td></tr>\n",
      "</thead>\n",
      "<tr><td>0</td><td>0</td><td>0</td><td>0</td><td>0</td></tr>\n",
      "<tr><td>1</td><td>0</td><td>1</td><td>0</td><td>1</td></tr>\n",
      "<tr><td>0</td><td>1</td><td>1</td><td>0</td><td>1</td></tr>\n",
      "<tr><td>1</td><td>1</td><td>1</td><td>1</td><td>0</td></tr>\n",
      "</table>\n",
      "<img src=\"http://ecee.colorado.edu/~ecen4831/lectures/xor2.gif\" style=\"width:110%\"></img>"
     ]
    },
    {
     "cell_type": "markdown",
     "metadata": {
      "slideshow": {
       "slide_type": "slide"
      }
     },
     "source": [
      "## Single-layer Perceptron\n",
      "\n",
      "This solves AND and OR.\n",
      "<img src=\"images/singlelayer.svg\"></img>"
     ]
    },
    {
     "cell_type": "markdown",
     "metadata": {
      "slideshow": {
       "slide_type": "slide"
      }
     },
     "source": [
      "## Multi-layer Perceptron / Neural Networks\n",
      "\n",
      "####STACK'EM UP!\n",
      "<img src=\"images/2layer.svg\"></img>\n"
     ]
    },
    {
     "cell_type": "markdown",
     "metadata": {
      "slideshow": {
       "slide_type": "slide"
      }
     },
     "source": [
      "## Problem solving and representation\n",
      "<img src=\"http://www.massey.ac.nz/~mjjohnso/notes/59302/xor_solve.gif\"></img>"
     ]
    },
    {
     "cell_type": "markdown",
     "metadata": {
      "slideshow": {
       "slide_type": "slide"
      }
     },
     "source": [
      "## Backpropagation\n",
      "<img src=\"http://home.agh.edu.pl/~vlsi/AI/backp_t_en/backprop_files/img09.gif\"></img>\n",
      "<img src=\"http://home.agh.edu.pl/~vlsi/AI/backp_t_en/backprop_files/img11.gif\"></img>"
     ]
    },
    {
     "cell_type": "markdown",
     "metadata": {
      "slideshow": {
       "slide_type": "slide"
      }
     },
     "source": [
      "<h2> AI Winter (1966 - 1990s)</h2>\n",
      "<img src=\"http://memecrunch.com/meme/1HSHO/winter-came/image.jpg\" style=\"width:30%\"></img>\n",
      "<ol>\n",
      "<li>More complicated problem -> more steps of computation -> more layers</li>\n",
      "<li>Backpropagation had problems with deep networks (More than 2 layers)</li>\n",
      "<li>A lot of promise for neural networks, but too many problems.</li>\n",
      "<li>A lot of promise for AI in general, too much funding to AI companies with shitty returns</li>\n",
      "</ol>\n"
     ]
    },
    {
     "cell_type": "markdown",
     "metadata": {
      "slideshow": {
       "slide_type": "slide"
      }
     },
     "source": [
      "## ReNNaissance (2007-ish)\n",
      "\n",
      "Rebranding as *deep learning*\n",
      "\n",
      "<img src=\"http://www.dmi.usherb.ca/~larocheh/images/deep_learning.jpg\"></img>\n",
      "Layer-wise pretraining learns (using unlabelled data) what the data looks like in general.\n",
      "\n"
     ]
    },
    {
     "cell_type": "markdown",
     "metadata": {
      "slideshow": {
       "slide_type": "slide"
      }
     },
     "source": [
      "## Edge detectors first and then...\n",
      "<img src=\"http://www.cs.toronto.edu/~ranzato/research/figs/learned_features.gif\"></img>"
     ]
    },
    {
     "cell_type": "markdown",
     "metadata": {
      "slideshow": {
       "slide_type": "slide"
      }
     },
     "source": [
      "## Recognising cats and faces (but who cares about faces)\n",
      "<img style=\"width:45%;float:left\" src=\"https://1.bp.blogspot.com/-VENOsYD1uJc/T-nkLAiANtI/AAAAAAAAJWc/2KCTl3OsI18/s1600/cat+detection.jpeg\"></img>\n",
      "<img style=\"width:45%;float:left\" src=\"http://i.telegraph.co.uk/multimedia/archive/02259/face_2259240b.jpg\"></img>"
     ]
    },
    {
     "cell_type": "markdown",
     "metadata": {
      "slideshow": {
       "slide_type": "slide"
      }
     },
     "source": [
      "## Explaining what pre-training is..."
     ]
    },
    {
     "cell_type": "code",
     "collapsed": false,
     "input": [
      "# a video showing running the RBM through several iterations. \"Daydreaming\"...\n",
      "YouTubeVideo('LzE1fF0_3q0')"
     ],
     "language": "python",
     "metadata": {},
     "outputs": [
      {
       "html": [
        "\n",
        "        <iframe\n",
        "            width=\"400\"\n",
        "            height=300\"\n",
        "            src=\"https://www.youtube.com/embed/LzE1fF0_3q0\"\n",
        "            frameborder=\"0\"\n",
        "            allowfullscreen\n",
        "        ></iframe>\n",
        "        "
       ],
       "metadata": {},
       "output_type": "pyout",
       "prompt_number": 14,
       "text": [
        "<IPython.lib.display.YouTubeVideo at 0x7f72fe11ba10>"
       ]
      }
     ],
     "prompt_number": 14
    },
    {
     "cell_type": "markdown",
     "metadata": {
      "slideshow": {
       "slide_type": "slide"
      }
     },
     "source": [
      "## Sensationalism\n",
      "<img src=\"images/catproject.png\" style=\"width:50%\"></img>\n",
      "> The Google brain assembled a dreamlike digital image of a cat by employing a hierarchy of memory locations to successively cull out general features after being exposed to millions of images. The scientists said, however, that it appeared they had developed a cybernetic cousin to what takes place in the brain\u2019s visual cortex.\n",
      "\n"
     ]
    },
    {
     "cell_type": "markdown",
     "metadata": {
      "slideshow": {
       "slide_type": "slide"
      }
     },
     "source": [
      "## Big companies buying up Big researchers\n",
      "\n",
      "<img src=\"https://lh3.googleusercontent.com/-KzORn341UDw/VIxtoa5RhXI/AAAAAAAAfLc/uIqb2i7uwA8/w2048-h1536/photo.JPG\" style=\"width:60%;\"></img>\n",
      "\n",
      "Four heavenly kings from left to right:\n",
      "- Yann LeCun (Facebook)\n",
      "- Geoffrey Hinton (Google)\n",
      "- Yoshua Bengio (Untempted by the dark side.)\n",
      "- Andrew Ng (Baidu)\n"
     ]
    },
    {
     "cell_type": "markdown",
     "metadata": {
      "slideshow": {
       "slide_type": "slide"
      }
     },
     "source": [
      "## Buying up deep learning companies...\n",
      "<img src=\"images/deepmindaqui.png\"></img>"
     ]
    },
    {
     "cell_type": "code",
     "collapsed": false,
     "input": [
      "# DeepMind sell koyok...\n",
      "YouTubeVideo('CUhflgWvvoo')"
     ],
     "language": "python",
     "metadata": {
      "slideshow": {
       "slide_type": "slide"
      }
     },
     "outputs": [
      {
       "html": [
        "\n",
        "        <iframe\n",
        "            width=\"400\"\n",
        "            height=300\"\n",
        "            src=\"https://www.youtube.com/embed/CUhflgWvvoo\"\n",
        "            frameborder=\"0\"\n",
        "            allowfullscreen\n",
        "        ></iframe>\n",
        "        "
       ],
       "metadata": {},
       "output_type": "pyout",
       "prompt_number": 16,
       "text": [
        "<IPython.lib.display.YouTubeVideo at 0x7f72fe3b5dd0>"
       ]
      }
     ],
     "prompt_number": 16
    },
    {
     "cell_type": "markdown",
     "metadata": {
      "slideshow": {
       "slide_type": "slide"
      }
     },
     "source": [
      "## During a backchannel interview...\n",
      "\n",
      "> *You\u2019ve had successful experiments, but how difficult is it to build those into a system that hundreds of millions of people will use?*\n",
      "\n",
      ">It\u2019s a multi-step process. You start with the research question and find that answer. Then we do **some major neuroscience** and then we look at it in machine learning and we implement a practical system that can play Atari really well and then that\u2019s ready to scale. Here at Deep Mind about three quarters of the team is research but one quarter is applied. That team is the interface between the research that gets done here and the rest of Google\u2019s products."
     ]
    },
    {
     "cell_type": "markdown",
     "metadata": {
      "slideshow": {
       "slide_type": "slide"
      }
     },
     "source": [
      "## Deep Neural Networks and Reinforcement Learning...\n",
      "<img src=\"http://i0.kym-cdn.com/entries/icons/original/000/007/582/tumblr_lmputme3co1qa6q7k_large.png\"></img>"
     ]
    },
    {
     "cell_type": "markdown",
     "metadata": {
      "slideshow": {
       "slide_type": "slide"
      }
     },
     "source": [
      "## Fear, uncertainty and doubt\n",
      "<div align=\"center\">\n",
      "<img src=\"images/fud1.png\" style=\"width:45%;display:inline;\"></img>\n",
      "<img src=\"images/fud2.png\" style=\"width:45%;display:inline;margin-top:0px\"></img>\n",
      "</div>"
     ]
    },
    {
     "cell_type": "markdown",
     "metadata": {
      "slideshow": {
       "slide_type": "slide"
      }
     },
     "source": [
      "## Too much optimism\n",
      "<img src=\"images/kurzweilcrap.png\"></img>"
     ]
    },
    {
     "cell_type": "markdown",
     "metadata": {
      "slideshow": {
       "slide_type": "slide"
      }
     },
     "source": [
      "## All of this has happened before and will happen again.\n",
      "<img src=\"https://cityoftongues.files.wordpress.com/2009/03/battlestar_galactica-last-supper.jpg\"></img>\n",
      "(Battlestar Galactica reference.)"
     ]
    },
    {
     "cell_type": "markdown",
     "metadata": {
      "slideshow": {
       "slide_type": "slide"
      }
     },
     "source": [
      "## End.\n",
      "\n",
      "> A machine learning researcher, a crypto-currency expert, and an Erlang programmer walk into a bar. Facebook buys the bar for $27 billion.\n",
      "\n",
      "@ML_Hipster"
     ]
    }
   ],
   "metadata": {}
  }
 ]
}