{
 "cells": [
  {
   "cell_type": "code",
   "execution_count": 14,
   "metadata": {
    "collapsed": false,
    "slideshow": {
     "slide_type": "skip"
    }
   },
   "outputs": [],
   "source": [
    "%matplotlib inline\n",
    "from IPython.display import *\n",
    "from IPython.display import YouTubeVideo\n",
    "import numpy as np\n",
    "import matplotlib as plt\n",
    "import matplotlib.pyplot as plt\n",
    "import matplotlib.cm as cm\n",
    "import matplotlib"
   ]
  },
  {
   "cell_type": "markdown",
   "metadata": {
    "slideshow": {
     "slide_type": "slide"
    }
   },
   "source": [
    "# Deep Learning"
   ]
  },
  {
   "cell_type": "markdown",
   "metadata": {
    "slideshow": {
     "slide_type": "slide"
    }
   },
   "source": [
    "### ##`$ finger shawntan`\n",
    "(by the way, `finger` is totally the correct command to use here, `whoami` doesn't make sense at all.)\n",
    "```\n",
    "Login name: shawntan                    In real life: Tan Jing Shan, Shawn\n",
    "\n",
    "Occupation: Research Assistant @ SoC (Speech Recognition Group)\n",
    "\n",
    "- Graduated from NUS\n",
    "- Ex-coreteam member\n",
    "- Worked at Semantics3\n",
    "\n",
    "Research Interests: \n",
    "- Neural Networks\n",
    "- Machine Learning\n",
    "- Natural Language Processing\n",
    "- Artificial Intelligence\n",
    "```\n",
    "## PLEASE interrupt me if you don't geddit. It helps."
   ]
  },
  {
   "cell_type": "markdown",
   "metadata": {
    "slideshow": {
     "slide_type": "slide"
    }
   },
   "source": [
    "<img src=\"images/ainews.png\"/>"
   ]
  },
  {
   "cell_type": "markdown",
   "metadata": {
    "slideshow": {
     "slide_type": "slide"
    }
   },
   "source": [
    "## Artificial Intelligence and Machine learning\n",
    "\n",
    "<img src=\"https://www.inovancetech.com/img/blog/diagram1.png\"></img>"
   ]
  },
  {
   "cell_type": "markdown",
   "metadata": {
    "slideshow": {
     "slide_type": "slide"
    }
   },
   "source": [
    "### Machine learning\n",
    "\n",
    "Say we want to create a system for a bank to decide if we should approve loans to people.\n",
    "\n",
    "We have some data of past approvals:\n",
    "<table>\n",
    "<tr>\n",
    "    <td>Gender</td>\n",
    "    <td>Age</td>\n",
    "    <td>Married</td>\n",
    "    <td>No. of children</td>\n",
    "    <td>Type of house</td>\n",
    "    <td>Has car</td>\n",
    "    <td>Salary</td>\n",
    "    <td>Approved</td>\n",
    "</tr>\n",
    "<tbody>\n",
    "<tr>\n",
    "<td>Male</td>\n",
    "<td>38</td>\n",
    "<td>Yes</td>\n",
    "<td>1</td>\n",
    "<td>HDB</td>\n",
    "<td>Yes</td>\n",
    "<td>4000</td>\n",
    "<td>Yes</td>\n",
    "</tr>\n",
    "<tr>\n",
    "<td>Female</td>\n",
    "<td>25</td>\n",
    "<td>No</td>\n",
    "<td>0</td>\n",
    "<td>N/A</td>\n",
    "<td>No</td>\n",
    "<td>2600</td>\n",
    "<td>No</td>\n",
    "</tr>\n",
    "<tr>\n",
    "<td>Female</td>\n",
    "<td>32</td>\n",
    "<td>No</td>\n",
    "<td>0</td>\n",
    "<td>Condominium</td>\n",
    "<td>Yes</td>\n",
    "<td>6000</td>\n",
    "<td>Yes</td>\n",
    "</tr>\n",
    "<tr>\n",
    "<td colspan=\"8\">:</td>\n",
    "</tr>\n",
    "</tbody>\n",
    "</table>\n",
    "\n",
    "#### How can we do this automatically?"
   ]
  },
  {
   "cell_type": "markdown",
   "metadata": {
    "slideshow": {
     "slide_type": "slide"
    }
   },
   "source": [
    "### Method 1: Get some ~~minions~~ programmers to look at the data and write some code\n",
    "\n"
   ]
  },
  {
   "cell_type": "code",
   "execution_count": 4,
   "metadata": {
    "collapsed": false,
    "slideshow": {
     "slide_type": "-"
    }
   },
   "outputs": [],
   "source": [
    "def gets_loan(person):\n",
    "    if person.married and person.no_of_children > 1:\n",
    "        if person.salary > 3000:\n",
    "            return True\n",
    "        else:\n",
    "            if person.type_of_house == \"HDB\":\n",
    "                :"
   ]
  },
  {
   "cell_type": "markdown",
   "metadata": {},
   "source": [
    "and on and on."
   ]
  },
  {
   "cell_type": "markdown",
   "metadata": {
    "slideshow": {
     "slide_type": "slide"
    }
   },
   "source": [
    "### Method 2: The computer is your minion\n",
    "\n",
    "Learn it from the data!\n",
    "\n",
    "One machine learning algorithm learns a decision tree (this one has to do with who dies on Titanic):\n",
    "\n",
    "<img src=\"https://upload.wikimedia.org/wikipedia/commons/f/f3/CART_tree_titanic_survivors.png\"></img>\n",
    "\n"
   ]
  },
  {
   "cell_type": "markdown",
   "metadata": {
    "slideshow": {
     "slide_type": "slide"
    }
   },
   "source": [
    "## What is Deep Learning?\n",
    "<img src=\"http://i2.kym-cdn.com/photos/images/facebook/000/531/557/a88.jpg\"></img>"
   ]
  },
  {
   "cell_type": "markdown",
   "metadata": {
    "slideshow": {
     "slide_type": "slide"
    }
   },
   "source": [
    "## Google+ Image Search\n",
    "<img src=\"images/car_g+.png\"></img>"
   ]
  },
  {
   "cell_type": "markdown",
   "metadata": {
    "slideshow": {
     "slide_type": "slide"
    }
   },
   "source": [
    "## Google Speech Recognition\n",
    "\n",
    "<div align=\"center\">\n",
    "<img src=\"images/speech1.png\" style=\"width:40%;display:inline;\"></img>\n",
    "<img src=\"images/speech2.png\" style=\"width:40%;display:inline;margin-top:0px\"></img>\n",
    "</div>"
   ]
  },
  {
   "cell_type": "markdown",
   "metadata": {
    "slideshow": {
     "slide_type": "slide"
    }
   },
   "source": [
    "## Google Streetview House Number Identification\n",
    "<img src=\"images/Streetview.png\"></img>"
   ]
  },
  {
   "cell_type": "markdown",
   "metadata": {
    "slideshow": {
     "slide_type": "slide"
    }
   },
   "source": [
    "## How does it actually work?"
   ]
  },
  {
   "cell_type": "markdown",
   "metadata": {
    "slideshow": {
     "slide_type": "subslide"
    }
   },
   "source": [
    "## Detour into Machine Learning: Linear classifiers\n",
    "\n",
    "<img src=\"https://upload.wikimedia.org/wikipedia/commons/thumb/2/20/Svm_separating_hyperplanes.png/628px-Svm_separating_hyperplanes.png\"></img>"
   ]
  },
  {
   "cell_type": "markdown",
   "metadata": {
    "slideshow": {
     "slide_type": "slide"
    }
   },
   "source": [
    "## Logistic Regression / Perceptron / Single-layer Neural Network\n",
    "<img src=\"http://i.stack.imgur.com/1c2Mb.png\"></img>\n"
   ]
  },
  {
   "cell_type": "markdown",
   "metadata": {
    "slideshow": {
     "slide_type": "slide"
    }
   },
   "source": [
    "## Perceptron - Frank Rosenblatt (1958)\n",
    "<img src=\"http://csis.pace.edu/~ctappert/srd2011/photos/Rosenblatt-CAL1958.jpg\"></img>"
   ]
  },
  {
   "cell_type": "markdown",
   "metadata": {
    "slideshow": {
     "slide_type": "subslide"
    }
   },
   "source": [
    "##XOR problem: The case of Linear (in)separability \n",
    "\n",
    "<table>\n",
    "<thead>\n",
    "<tr><td>input 1</td><td>input 2</td><td>OR</td><td>AND</td><td>XOR</td></tr>\n",
    "</thead>\n",
    "<tr><td>0</td><td>0</td><td>0</td><td>0</td><td>0</td></tr>\n",
    "<tr><td>1</td><td>0</td><td>1</td><td>0</td><td>1</td></tr>\n",
    "<tr><td>0</td><td>1</td><td>1</td><td>0</td><td>1</td></tr>\n",
    "<tr><td>1</td><td>1</td><td>1</td><td>1</td><td>0</td></tr>\n",
    "</table>\n",
    "<img src=\"http://ecee.colorado.edu/~ecen4831/lectures/xor2.gif\" style=\"width:110%\"></img>"
   ]
  },
  {
   "cell_type": "markdown",
   "metadata": {
    "slideshow": {
     "slide_type": "subslide"
    }
   },
   "source": [
    "## Single-layer Perceptron\n",
    "\n",
    "This solves AND and OR.\n",
    "<img src=\"images/singlelayer.svg\"></img>"
   ]
  },
  {
   "cell_type": "markdown",
   "metadata": {
    "slideshow": {
     "slide_type": "slide"
    }
   },
   "source": [
    "## Multi-layer Perceptron / Neural Networks\n",
    "\n",
    "####STACK'EM UP!\n",
    "<img src=\"images/2layer.svg\"></img>\n"
   ]
  },
  {
   "cell_type": "markdown",
   "metadata": {
    "slideshow": {
     "slide_type": "subslide"
    }
   },
   "source": [
    "## Problem solving and representation\n",
    "<img src=\"http://www.massey.ac.nz/~mjjohnso/notes/59302/xor_solve.gif\"></img>"
   ]
  },
  {
   "cell_type": "markdown",
   "metadata": {
    "slideshow": {
     "slide_type": "subslide"
    }
   },
   "source": [
    "## Backpropagation\n",
    "<img src=\"http://home.agh.edu.pl/~vlsi/AI/backp_t_en/backprop_files/img09.gif\"></img>\n",
    "<img src=\"http://home.agh.edu.pl/~vlsi/AI/backp_t_en/backprop_files/img11.gif\"></img>"
   ]
  },
  {
   "cell_type": "markdown",
   "metadata": {
    "slideshow": {
     "slide_type": "subslide"
    }
   },
   "source": [
    "## Framework for thinking...\n",
    "\n",
    "\n",
    "We want to have some function $f(\\cdot)$ where we put in some $x$ (e.g. square footage of a house) and we want to get the right answer $y$ (e.g. price given $x$ square footage of house)\n",
    "\n",
    "$$\\hat{y} = f(x)$$\n",
    "\n",
    "So if we know the right $y$, we can score how well our $f(\\cdot)$ does. The shittier it is, the bigger the score.\n",
    "\n",
    "Let's call this scoring function $L$, \n",
    "\n",
    "$$L(f(x),y) \\text{ or } L(\\hat{y},y)$$\n",
    "\n",
    "The whole point of machine learning is to make the value of this $L(f(x),y)$ as small as possible.\n"
   ]
  },
  {
   "cell_type": "markdown",
   "metadata": {
    "slideshow": {
     "slide_type": "subslide"
    }
   },
   "source": [
    "## Sound familiar yet?\n",
    "\n",
    "Remember these problems from high school calculus:\n",
    "\n",
    "> An open rectangular box with square base is to be made from 48 m<sup>2</sup> of material. What dimensions will result in a box with the largest possible volume ?"
   ]
  },
  {
   "cell_type": "markdown",
   "metadata": {
    "slideshow": {
     "slide_type": "subslide"
    }
   },
   "source": [
    "Let one side of the square base be $x$, and the height is $y$, then the area $A$ is given by,"
   ]
  },
  {
   "cell_type": "markdown",
   "metadata": {
    "slideshow": {
     "slide_type": "subslide"
    }
   },
   "source": [
    "$$\n",
    "\\begin{align*}\n",
    "y &= \\frac{48 - x^2}{4x}\\\\\n",
    "A &= yx^2 \\\\\n",
    "&= 12x - \\frac{1}{4} x^3\n",
    "\\end{align*}\n",
    "$$"
   ]
  },
  {
   "cell_type": "markdown",
   "metadata": {
    "slideshow": {
     "slide_type": "subslide"
    }
   },
   "source": [
    "### How to maximise\n",
    "\n",
    "$x$ is what we need to adjust\n",
    "$$\n",
    "\\begin{align*}\n",
    "\\frac{\\partial A}{\\partial x} &= 0 \\\\\n",
    "12 - \\frac{3}{4}x^2 &=0 \\\\\n",
    "x &= 4\n",
    "\\end{align*}\n",
    "$$\n"
   ]
  },
  {
   "cell_type": "code",
   "execution_count": 15,
   "metadata": {
    "collapsed": false,
    "slideshow": {
     "slide_type": "subslide"
    }
   },
   "outputs": [
    {
     "data": {
      "text/plain": [
       "[<matplotlib.lines.Line2D at 0x7f65397f8c10>]"
      ]
     },
     "execution_count": 15,
     "metadata": {},
     "output_type": "execute_result"
    },
    {
     "data": {
      "image/png": "[encoded data removed]",
      "text/plain": [
       "<matplotlib.figure.Figure at 0x7f655322bfd0>"
      ]
     },
     "metadata": {},
     "output_type": "display_data"
    }
   ],
   "source": [
    "x = np.arange(-7.6,7.6, .01)\n",
    "y = 12 * x - x**3 / 4\n",
    "plt.plot(x,y)"
   ]
  },
  {
   "cell_type": "markdown",
   "metadata": {
    "slideshow": {
     "slide_type": "subslide"
    }
   },
   "source": [
    "### Same thing for any function!\n",
    "\n",
    "We have a bunch of parameters $\\Theta$ we want to tune, and we have a cost function to minimise. The best thing to do would be to do the same thing as we did above and solve for \n",
    "$$\\frac{\\partial L(f(x),y)}{\\partial w_i} = 0$$\n",
    "\n",
    "But not always possible due to computational costs or formula has no closed form solution. What's the next best thing?"
   ]
  },
  {
   "cell_type": "markdown",
   "metadata": {
    "slideshow": {
     "slide_type": "subslide"
    }
   },
   "source": [
    "### Gradient Descent\n",
    "<table>\n",
    "<tr>\n",
    "<td><img src=\"images/sgd.gif\" ></td>\n",
    "<td><img src=\"images/Calvin and Hobbes - Slidding.gif\"> </td>\n",
    "</tr>\n",
    "</table>\n",
    "\n",
    "$$w := w - \\alpha \\cdot \\frac{\\partial L}{\\partial w}$$"
   ]
  },
  {
   "cell_type": "markdown",
   "metadata": {
    "slideshow": {
     "slide_type": "subslide"
    }
   },
   "source": [
    "## Chain rule\n",
    "\n",
    "So what happens if you have some complicated cost function that looks something like $L(g(f(w,x)),y)$, and we need to adjust $w$?\n",
    "\n",
    "$$ \\frac{\\partial z}{\\partial y} = \\frac{\\partial z}{\\partial w}\\frac{\\partial w}{\\partial y}$$\n",
    "\n",
    "If you remember the chain rule, it's not that hard to do something like this:\n",
    "\n",
    "$$\n",
    "\\begin{align*}\n",
    "z &= f(w,x) \\\\\n",
    "\\hat{y} &= g(z) \\\\\n",
    "\\frac{\\partial}{\\partial w} L(\\hat{y},y) &= \\frac{\\partial L(\\hat{y},y)}{\\partial \\hat{y}} \\frac{\\partial \\hat{y}}{\\partial z} \\frac{\\partial z}{\\partial \\hat{w}}\n",
    "\\end{align*}\n",
    "$$"
   ]
  },
  {
   "cell_type": "markdown",
   "metadata": {
    "slideshow": {
     "slide_type": "fragment"
    }
   },
   "source": [
    "Walau so much maths. What does this have to do with neural networks?"
   ]
  },
  {
   "cell_type": "markdown",
   "metadata": {
    "slideshow": {
     "slide_type": "subslide"
    }
   },
   "source": [
    "### Chain rule and backpropagation\n",
    "\n",
    "$$L(f(w_3,f(w_2,f(w_1,x))),y)$$\n",
    "<img src=\"images/function.png\"></img>"
   ]
  },
  {
   "cell_type": "markdown",
   "metadata": {
    "slideshow": {
     "slide_type": "subslide"
    }
   },
   "source": [
    "### Chain rule as memoization\n",
    "\n",
    "$$L(f(w_3,f(w_2,f(w_1,x))),y)$$\n",
    "<img src=\"images/backprop.png\"></img>"
   ]
  },
  {
   "cell_type": "markdown",
   "metadata": {
    "slideshow": {
     "slide_type": "skip"
    }
   },
   "source": [
    "### Automatic differentiation\n",
    "\n",
    "This doesn't stop at neural network architectures. This can be done for any differentiable function, and it is modular.\n",
    "\n",
    "1. Write the expression\n",
    "2. Implement the expression as a computation graph (DAG)\n",
    "3. Go from the output back to the parameters and compute the expressions for the gradients\n",
    "4. Toposort the whole thing to know sequence of dependencies"
   ]
  },
  {
   "cell_type": "markdown",
   "metadata": {
    "slideshow": {
     "slide_type": "skip"
    }
   },
   "source": [
    "Many libraries that already do this:\n",
    "- Python\n",
    "    - Theano http://deeplearning.net/software/theano/ (library used primarily for neural networks research)\n",
    "    - SymPy http://www.sympy.org/en/index.html (Computer algebra library)\n",
    "- Julia \n",
    "    - JuliaDiff http://www.juliadiff.org/ (probably more mathematically grounded)\n",
    "- Haskell\n",
    "    - ad https://hackage.haskell.org/package/ad (I don't know anything about this.)"
   ]
  },
  {
   "cell_type": "markdown",
   "metadata": {
    "slideshow": {
     "slide_type": "slide"
    }
   },
   "source": [
    "## AI Winter (1966 - 1990s)\n",
    "\n",
    "<table>\n",
    "<tr><td>\n",
    "<img src=\"http://memecrunch.com/meme/1HSHO/winter-came/image.jpg\"></img>\n",
    "</td>\n",
    "<td>\n",
    "<ol>\n",
    "<li>More complicated problem -> more steps of computation -> more layers</li>\n",
    "<li>Backpropagation had problems with deep networks (More than 2 layers)</li>\n",
    "<li>A lot of promise for neural networks, but too many problems.</li>\n",
    "<li>A lot of promise for AI in general, too much funding to AI companies with shitty returns</li>\n",
    "</ol>\n",
    "</td>\n",
    "</tr>\n",
    "</table>"
   ]
  },
  {
   "cell_type": "markdown",
   "metadata": {
    "slideshow": {
     "slide_type": "slide"
    }
   },
   "source": [
    "## ReNNaissance (2007-ish)\n",
    "\n",
    "Rebranding as *deep learning*\n",
    "\n",
    "<img src=\"http://www.dmi.usherb.ca/~larocheh/images/deep_learning.jpg\"></img>\n",
    "Layer-wise pretraining learns (using unlabelled data) what the data looks like in general.\n",
    "\n"
   ]
  },
  {
   "cell_type": "markdown",
   "metadata": {
    "slideshow": {
     "slide_type": "slide"
    }
   },
   "source": [
    "## Edge detectors first and then...\n",
    "<img src=\"http://www.cs.toronto.edu/~ranzato/research/figs/learned_features.gif\"></img>"
   ]
  },
  {
   "cell_type": "markdown",
   "metadata": {
    "slideshow": {
     "slide_type": "slide"
    }
   },
   "source": [
    "## Recognising cats and faces (but who cares about faces)\n",
    "<img style=\"width:45%;float:left\" src=\"https://1.bp.blogspot.com/-VENOsYD1uJc/T-nkLAiANtI/AAAAAAAAJWc/2KCTl3OsI18/s1600/cat+detection.jpeg\"></img>\n",
    "<img style=\"width:45%;float:left\" src=\"http://i.telegraph.co.uk/multimedia/archive/02259/face_2259240b.jpg\"></img>"
   ]
  },
  {
   "cell_type": "markdown",
   "metadata": {
    "slideshow": {
     "slide_type": "slide"
    }
   },
   "source": [
    "## Explaining what pre-training is..."
   ]
  },
  {
   "cell_type": "code",
   "execution_count": 14,
   "metadata": {
    "collapsed": false
   },
   "outputs": [
    {
     "data": {
      "text/html": [
       "\n",
       "        <iframe\n",
       "            width=\"400\"\n",
       "            height=300\"\n",
       "            src=\"https://www.youtube.com/embed/LzE1fF0_3q0\"\n",
       "            frameborder=\"0\"\n",
       "            allowfullscreen\n",
       "        ></iframe>\n",
       "        "
      ],
      "text/plain": [
       "<IPython.lib.display.YouTubeVideo at 0x7f72fe11ba10>"
      ]
     },
     "execution_count": 14,
     "metadata": {},
     "output_type": "execute_result"
    }
   ],
   "source": [
    "# a video showing running the RBM through several iterations. \"Daydreaming\"...\n",
    "YouTubeVideo('LzE1fF0_3q0')"
   ]
  },
  {
   "cell_type": "markdown",
   "metadata": {
    "slideshow": {
     "slide_type": "slide"
    }
   },
   "source": [
    "## Sensationalism\n",
    "<img src=\"images/catproject.png\" style=\"width:50%\"></img>\n",
    "> The Google brain assembled a dreamlike digital image of a cat by employing a hierarchy of memory locations to successively cull out general features after being exposed to millions of images. The scientists said, however, that it appeared they had developed a cybernetic cousin to what takes place in the brain’s visual cortex.\n",
    "\n"
   ]
  },
  {
   "cell_type": "markdown",
   "metadata": {
    "slideshow": {
     "slide_type": "slide"
    }
   },
   "source": [
    "## Big companies buying up Big researchers\n",
    "\n",
    "<img src=\"https://lh3.googleusercontent.com/-KzORn341UDw/VIxtoa5RhXI/AAAAAAAAfLc/uIqb2i7uwA8/w2048-h1536/photo.JPG\" style=\"width:60%;\"></img>\n",
    "\n",
    "Four heavenly kings from left to right:\n",
    "- Yann LeCun (Facebook)\n",
    "- Geoffrey Hinton (Google)\n",
    "- Yoshua Bengio (Untempted by the dark side.)\n",
    "- Andrew Ng (Baidu)\n"
   ]
  },
  {
   "cell_type": "markdown",
   "metadata": {
    "slideshow": {
     "slide_type": "slide"
    }
   },
   "source": [
    "## Buying up deep learning companies...\n",
    "<img src=\"images/deepmindaqui.png\"></img>"
   ]
  },
  {
   "cell_type": "code",
   "execution_count": 16,
   "metadata": {
    "collapsed": false,
    "slideshow": {
     "slide_type": "slide"
    }
   },
   "outputs": [
    {
     "data": {
      "text/html": [
       "\n",
       "        <iframe\n",
       "            width=\"400\"\n",
       "            height=300\"\n",
       "            src=\"https://www.youtube.com/embed/CUhflgWvvoo\"\n",
       "            frameborder=\"0\"\n",
       "            allowfullscreen\n",
       "        ></iframe>\n",
       "        "
      ],
      "text/plain": [
       "<IPython.lib.display.YouTubeVideo at 0x7f72fe3b5dd0>"
      ]
     },
     "execution_count": 16,
     "metadata": {},
     "output_type": "execute_result"
    }
   ],
   "source": [
    "# DeepMind sell koyok...\n",
    "YouTubeVideo('CUhflgWvvoo')"
   ]
  },
  {
   "cell_type": "markdown",
   "metadata": {
    "slideshow": {
     "slide_type": "slide"
    }
   },
   "source": [
    "## During a backchannel interview...\n",
    "\n",
    "> *You’ve had successful experiments, but how difficult is it to build those into a system that hundreds of millions of people will use?*\n",
    "\n",
    ">It’s a multi-step process. You start with the research question and find that answer. Then we do **some major neuroscience** and then we look at it in machine learning and we implement a practical system that can play Atari really well and then that’s ready to scale. Here at Deep Mind about three quarters of the team is research but one quarter is applied. That team is the interface between the research that gets done here and the rest of Google’s products."
   ]
  },
  {
   "cell_type": "markdown",
   "metadata": {
    "slideshow": {
     "slide_type": "slide"
    }
   },
   "source": [
    "## Deep Neural Networks and Reinforcement Learning...\n",
    "<img src=\"http://i0.kym-cdn.com/entries/icons/original/000/007/582/tumblr_lmputme3co1qa6q7k_large.png\"></img>"
   ]
  },
  {
   "cell_type": "markdown",
   "metadata": {
    "slideshow": {
     "slide_type": "slide"
    }
   },
   "source": [
    "## Fear, uncertainty and doubt\n",
    "<div align=\"center\">\n",
    "<img src=\"images/fud1.png\" style=\"width:45%;display:inline;\"></img>\n",
    "<img src=\"images/fud2.png\" style=\"width:45%;display:inline;margin-top:0px\"></img>\n",
    "</div>"
   ]
  },
  {
   "cell_type": "markdown",
   "metadata": {
    "slideshow": {
     "slide_type": "slide"
    }
   },
   "source": [
    "## Too much optimism\n",
    "<img src=\"images/kurzweilcrap.png\"></img>"
   ]
  },
  {
   "cell_type": "markdown",
   "metadata": {
    "slideshow": {
     "slide_type": "slide"
    }
   },
   "source": [
    "## All of this has happened before and will happen again.\n",
    "<img src=\"https://cityoftongues.files.wordpress.com/2009/03/battlestar_galactica-last-supper.jpg\"></img>\n",
    "(Battlestar Galactica reference.)"
   ]
  },
  {
   "cell_type": "markdown",
   "metadata": {
    "slideshow": {
     "slide_type": "slide"
    }
   },
   "source": [
    "## End.\n",
    "\n",
    "> A machine learning researcher, a crypto-currency expert, and an Erlang programmer walk into a bar. Facebook buys the bar for $27 billion.\n",
    "\n",
    "@ML_Hipster"
   ]
  }
 ],
 "metadata": {
  "celltoolbar": "Slideshow",
  "kernelspec": {
   "display_name": "Python 2",
   "language": "python2",
   "name": "python2"
  },
  "language_info": {
   "codemirror_mode": {
    "name": "ipython",
    "version": 2
   },
   "file_extension": ".py",
   "mimetype": "text/x-python",
   "name": "python",
   "nbconvert_exporter": "python",
   "pygments_lexer": "ipython2",
   "version": "2.7.10"
  }
 },
 "nbformat": 4,
 "nbformat_minor": 0
}
