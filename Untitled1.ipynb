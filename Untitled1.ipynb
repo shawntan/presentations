{
 "cells": [
  {
   "cell_type": "code",
   "execution_count": 2,
   "metadata": {
    "collapsed": false,
    "slideshow": {
     "slide_type": "slide"
    }
   },
   "outputs": [
    {
     "name": "stdout",
     "output_type": "stream",
     "text": [
      "Couldn't import dot_parser, loading of dot files will not be possible.\n"
     ]
    }
   ],
   "source": [
    "import numpy as np\n",
    "import theano\n",
    "import theano.tensor as T\n",
    "%matplotlib inline\n",
    "import matplotlib.pyplot as plt"
   ]
  },
  {
   "cell_type": "markdown",
   "metadata": {},
   "source": [
    "What we want to get:\n",
    "$$ g(\\mathbf{x};\\theta,\\boldsymbol{\\sigma},\\boldsymbol{\\mu}) = \\exp\\left(-{\\left\\| (\\mathbf{x} - \\boldsymbol{\\mu}) \\right\\|}^2\\right) $$"
   ]
  },
  {
   "cell_type": "code",
   "execution_count": 3,
   "metadata": {
    "collapsed": false,
    "slideshow": {
     "slide_type": "slide"
    }
   },
   "outputs": [
    {
     "name": "stdout",
     "output_type": "stream",
     "text": [
      "[[ 0  0]\n",
      " [ 1  0]\n",
      " [ 2  0]\n",
      " ..., \n",
      " [29 31]\n",
      " [30 31]\n",
      " [31 31]]\n",
      "(1024, 2)\n"
     ]
    }
   ],
   "source": [
    "rows = 32\n",
    "cols = 32\n",
    "n_hidden = rows * cols\n",
    "points = np.dstack(np.meshgrid(np.arange(cols),np.arange(rows))).reshape(n_hidden,2)\n",
    "print points\n",
    "print points.shape"
   ]
  },
  {
   "cell_type": "code",
   "execution_count": 5,
   "metadata": {
    "collapsed": false,
    "slideshow": {
     "slide_type": "slide"
    }
   },
   "outputs": [
    {
     "data": {
      "text/plain": [
       "<matplotlib.image.AxesImage at 0x7fa5e8470a50>"
      ]
     },
     "execution_count": 5,
     "metadata": {},
     "output_type": "execute_result"
    },
    {
     "data": {
      "image/png": "[encoded data removed]",
      "text/plain": [
       "<matplotlib.figure.Figure at 0x7fa5e851a2d0>"
      ]
     },
     "metadata": {},
     "output_type": "display_data"
    }
   ],
   "source": [
    "mean = np.array([15.5,15.5],dtype=np.float32) # shape is (2,)\n",
    "values = np.exp(-np.sum(0.1 * (points - mean)**2,axis=1)) # notice formula from before\n",
    "\n",
    "plt.imshow(values.reshape(32,32),interpolation='none')"
   ]
  },
  {
   "cell_type": "markdown",
   "metadata": {
    "slideshow": {
     "slide_type": "slide"
    }
   },
   "source": [
    "The idea is to have many such surfaces, and you can use some broadcasting stunts to pull it off.\n",
    "\n",
    "1. Notice how our shape (2,) array\n",
    "2. can be subtracted by a (1024,2) array\n",
    "3. to give another (1024,2) array. \n",
    "4. The (2,) has been broadcasted over the first dimension. \n",
    "5. After the final calculation of the gaussian output, the shape of the gaussian is (1024,) \n",
    "6. and I then reshaped it to (32,32) for visualisation\n",
    "\n",
    "If we have 2 different gaussians, it means we need 2 different means, so we need a (2,2) array, and our gaussian surfaces will have a (2,32,32) shape"
   ]
  },
  {
   "cell_type": "code",
   "execution_count": 35,
   "metadata": {
    "collapsed": false,
    "slideshow": {
     "slide_type": "slide"
    }
   },
   "outputs": [],
   "source": [
    "mean = np.array(\n",
    "    [[7.5,7.5],\n",
    "     [25.5,25.5]],\n",
    "    dtype=np.float32) # shape is (2,2)\n",
    "# align the axes of the 2 arrays\n",
    "points_ = points.reshape(1,1024,2)\n",
    "mean_ = mean.reshape(2,1,2)"
   ]
  },
  {
   "cell_type": "markdown",
   "metadata": {
    "slideshow": {
     "slide_type": "fragment"
    }
   },
   "source": [
    "What's the shape of `mean_ - points_` ?"
   ]
  },
  {
   "cell_type": "code",
   "execution_count": 36,
   "metadata": {
    "collapsed": false,
    "slideshow": {
     "slide_type": "-"
    }
   },
   "outputs": [
    {
     "data": {
      "text/plain": [
       "(2, 1024, 2)"
      ]
     },
     "execution_count": 36,
     "metadata": {},
     "output_type": "execute_result"
    }
   ],
   "source": [
    "(mean_ - points_).shape"
   ]
  },
  {
   "cell_type": "markdown",
   "metadata": {
    "slideshow": {
     "slide_type": "fragment"
    }
   },
   "source": [
    "What is the shape of `-np.sum(0.5 * (mean_ - points_)**2,axis=2)` ?"
   ]
  },
  {
   "cell_type": "code",
   "execution_count": 37,
   "metadata": {
    "collapsed": false
   },
   "outputs": [
    {
     "data": {
      "text/plain": [
       "(2, 1024)"
      ]
     },
     "execution_count": 37,
     "metadata": {},
     "output_type": "execute_result"
    }
   ],
   "source": [
    "(-np.sum(0.5 * (mean_ - points_)**2,axis=2)).shape"
   ]
  },
  {
   "cell_type": "code",
   "execution_count": 42,
   "metadata": {
    "collapsed": false,
    "slideshow": {
     "slide_type": "slide"
    }
   },
   "outputs": [
    {
     "name": "stdout",
     "output_type": "stream",
     "text": [
      "First gaussian\n"
     ]
    },
    {
     "data": {
      "image/png": "[encoded data removed]",
      "text/plain": [
       "<matplotlib.figure.Figure at 0x7ff34844bdd0>"
      ]
     },
     "metadata": {},
     "output_type": "display_data"
    },
    {
     "name": "stdout",
     "output_type": "stream",
     "text": [
      "Second gaussian\n"
     ]
    },
    {
     "data": {
      "text/plain": [
       "<matplotlib.image.AxesImage at 0x7ff34836a390>"
      ]
     },
     "execution_count": 42,
     "metadata": {},
     "output_type": "execute_result"
    },
    {
     "data": {
      "image/png": "[encoded data removed]",
      "text/plain": [
       "<matplotlib.figure.Figure at 0x7ff3484bd250>"
      ]
     },
     "metadata": {},
     "output_type": "display_data"
    }
   ],
   "source": [
    "values = np.exp(-np.sum(0.5 * (points_ - mean_)**2,axis=2))\n",
    "print \"First gaussian\"\n",
    "plt.imshow(values[0].reshape(32,32),interpolation='none')\n",
    "plt.show()\n",
    "print \"Second gaussian\"\n",
    "plt.imshow(values[1].reshape(32,32),interpolation='none')"
   ]
  },
  {
   "cell_type": "markdown",
   "metadata": {
    "slideshow": {
     "slide_type": "slide"
    }
   },
   "source": [
    "You can do this entire process in Theano with just some minor changes:"
   ]
  },
  {
   "cell_type": "code",
   "execution_count": 46,
   "metadata": {
    "collapsed": false
   },
   "outputs": [
    {
     "data": {
      "text/plain": [
       "(2, 1024, 2)"
      ]
     },
     "execution_count": 46,
     "metadata": {},
     "output_type": "execute_result"
    }
   ],
   "source": [
    "shared_points = theano.shared(np.dstack(np.meshgrid(np.arange(cols),np.arange(rows))).reshape(n_hidden,2))\n",
    "shared_mean = theano.shared(np.array(\n",
    "    [[7.5,7.5],\n",
    "     [25.5,25.5]],dtype=np.float32))\n",
    "\n",
    "#points_ = points.reshape(1,1024,2)\n",
    "points_ = shared_points.dimshuffle('x',0,1)\n",
    "#mean_ = mean.reshape(2,1,2)\n",
    "mean_ = shared_mean.dimshuffle(0,'x',1)\n",
    "\n",
    "(points_ - mean_).eval().shape"
   ]
  },
  {
   "cell_type": "markdown",
   "metadata": {
    "slideshow": {
     "slide_type": "slide"
    }
   },
   "source": [
    "### Main takeaway\n",
    "\n",
    "Numpy / Theano broadcasting. If you know what you are doing, it makes your code concise. If you don't get it, then other people's code is cryptic as hell."
   ]
  },
  {
   "cell_type": "markdown",
   "metadata": {
    "slideshow": {
     "slide_type": "slide"
    }
   },
   "source": [
    "To introduce constraints, we already have the (2, 1024) array we need (before we do any reshaping).\n",
    "\n",
    "Essentially what is needed is to just calculate KL-divergence between any other 32x32 surface, and the new grid Gaussian surface we made."
   ]
  },
  {
   "cell_type": "code",
   "execution_count": 49,
   "metadata": {
    "collapsed": false
   },
   "outputs": [],
   "source": [
    "def kl_divergence(x,surfaces):\n",
    "    return T.sum(x * (T.log(x) - T.log(surfaces)),axis = 1)"
   ]
  },
  {
   "cell_type": "markdown",
   "metadata": {
    "slideshow": {
     "slide_type": "slide"
    }
   },
   "source": [
    "### Theano indexing"
   ]
  },
  {
   "cell_type": "code",
   "execution_count": 51,
   "metadata": {
    "collapsed": false
   },
   "outputs": [
    {
     "data": {
      "text/plain": [
       "array([9, 8, 7, 6, 5, 4, 3, 2, 1, 0])"
      ]
     },
     "execution_count": 51,
     "metadata": {},
     "output_type": "execute_result"
    }
   ],
   "source": [
    "nums = T.arange(10)[::-1]\n",
    "nums.eval()"
   ]
  },
  {
   "cell_type": "code",
   "execution_count": 53,
   "metadata": {
    "collapsed": false
   },
   "outputs": [
    {
     "data": {
      "text/plain": [
       "array([7, 8, 6, 4, 3])"
      ]
     },
     "execution_count": 53,
     "metadata": {},
     "output_type": "execute_result"
    }
   ],
   "source": [
    "nums[[2,1,3,5,6]].eval()"
   ]
  },
  {
   "cell_type": "code",
   "execution_count": 56,
   "metadata": {
    "collapsed": false,
    "slideshow": {
     "slide_type": "slide"
    }
   },
   "outputs": [
    {
     "data": {
      "text/plain": [
       "array([[ 1.,  0.,  0.,  0.,  0.],\n",
       "       [ 0.,  1.,  0.,  0.,  0.],\n",
       "       [ 0.,  0.,  1.,  0.,  0.],\n",
       "       [ 0.,  0.,  0.,  1.,  0.],\n",
       "       [ 0.,  0.,  0.,  0.,  1.]])"
      ]
     },
     "execution_count": 56,
     "metadata": {},
     "output_type": "execute_result"
    }
   ],
   "source": [
    "nums = T.eye(5)\n",
    "nums.eval()"
   ]
  },
  {
   "cell_type": "code",
   "execution_count": 58,
   "metadata": {
    "collapsed": false
   },
   "outputs": [
    {
     "data": {
      "text/plain": [
       "array([[ 0.,  0.,  1.,  0.,  0.],\n",
       "       [ 0.,  1.,  0.,  0.,  0.],\n",
       "       [ 0.,  0.,  0.,  1.,  0.]])"
      ]
     },
     "execution_count": 58,
     "metadata": {},
     "output_type": "execute_result"
    }
   ],
   "source": [
    "nums[[2,1,3]].eval()"
   ]
  },
  {
   "cell_type": "markdown",
   "metadata": {},
   "source": [
    "We have an array of (48,1024) gaussian surfaces. So to use the appropriate surface for the right phoneme, we simply do `values[phonemes]` (where `phonemes` is the phonemes of the corresponding frames"
   ]
  }
 ],
 "metadata": {
  "celltoolbar": "Slideshow",
  "kernelspec": {
   "display_name": "Python 2",
   "language": "python2",
   "name": "python2"
  },
  "language_info": {
   "codemirror_mode": {
    "name": "ipython",
    "version": 2
   },
   "file_extension": ".py",
   "mimetype": "text/x-python",
   "name": "python",
   "nbconvert_exporter": "python",
   "pygments_lexer": "ipython2",
   "version": "2.7.11"
  }
 },
 "nbformat": 4,
 "nbformat_minor": 0
}
