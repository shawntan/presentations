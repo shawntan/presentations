{
 "cells": [
  {
   "cell_type": "code",
   "execution_count": 1,
   "metadata": {
    "collapsed": false,
    "slideshow": {
     "slide_type": "skip"
    }
   },
   "outputs": [
    {
     "name": "stdout",
     "output_type": "stream",
     "text": [
      "Couldn't import dot_parser, loading of dot files will not be possible.\n"
     ]
    }
   ],
   "source": [
    "%matplotlib inline\n",
    "from IPython.display import *\n",
    "import theano\n",
    "import theano.tensor as T\n",
    "import numpy as np"
   ]
  },
  {
   "cell_type": "markdown",
   "metadata": {
    "slideshow": {
     "slide_type": "slide"
    }
   },
   "source": [
    "# NLP with Theano"
   ]
  },
  {
   "cell_type": "markdown",
   "metadata": {
    "slideshow": {
     "slide_type": "slide"
    }
   },
   "source": [
    "# Introduction to Neural Networks"
   ]
  },
  {
   "cell_type": "markdown",
   "metadata": {},
   "source": [
    "<img src=\"http://upload.wikimedia.org/wikipedia/commons/thumb/e/e4/Artificial_neural_network.svg/560px-Artificial_neural_network.svg.png\"/>"
   ]
  },
  {
   "cell_type": "markdown",
   "metadata": {
    "slideshow": {
     "slide_type": "slide"
    }
   },
   "source": [
    "# Vectorised Notations\n",
    "\n",
    "Weighted sum of input:\n",
    "\n",
    "$$\n",
    "\\begin{align}\n",
    "x ^\\top w &=\n",
    "\\left[\\begin{matrix}\n",
    "x_1\\\\\n",
    "\\vdots\\\\\n",
    "x_d\n",
    "\\end{matrix}\\right]^\\top\n",
    "\\left[\\begin{matrix}\n",
    "w_1\\\\\n",
    "\\vdots\\\\\n",
    "w_d\n",
    "\\end{matrix}\\right] = \\sum_i w_ix_i  \\\\\n",
    "x ^\\top W &=\n",
    "\\left[\\begin{matrix}\n",
    "x_1\\\\\n",
    "\\vdots\\\\\n",
    "x_d\n",
    "\\end{matrix}\\right]^\\top\n",
    "\\left[\\begin{matrix}\n",
    "w_{1,1} & \\cdots & w_{1,d'}\\\\\n",
    "\\vdots & \\ddots & \\vdots\\\\\n",
    "w_{d,1} & \\cdots & w_{d,d'}\n",
    "\\end{matrix}\\right]\n",
    " = \n",
    "\\left[\\begin{matrix} \\sum_i w_{i,1}x_i & \\cdots & \\sum_i w_{i,d'}x_i \\end{matrix} \\right]\n",
    "\\end{align}\n",
    "$$\n",
    "\n",
    "Applying functions to matrices:\n",
    "\n",
    "$$\n",
    "f(X) = \n",
    "f\\left(\\left[\\begin{matrix}\n",
    "r_{0,0} & \\cdots & r_{0,d}\\\\\n",
    "&\\vdots& \\\\\n",
    "r_{|D|,0} & \\cdots & r_{|D|,d}\n",
    "\\end{matrix}\\right]\\right) =\n",
    "\\left[\\begin{matrix}\n",
    "f(r_{0,0}) & \\cdots & f(r_{0,d})\\\\\n",
    "&\\vdots& \\\\\n",
    "f(r_{|D|,0}) & \\cdots & f(r_{|D|,d})\n",
    "\\end{matrix}\\right]\n",
    "$$"
   ]
  },
  {
   "cell_type": "markdown",
   "metadata": {
    "slideshow": {
     "slide_type": "slide"
    }
   },
   "source": [
    "#Logistic Regression / Perceptron / Single-layer Neural Network\n",
    "\n",
    "Sigmoid function for binary classification:\n",
    "\n",
    "$$f(x) = \\frac{1}{1-e^{-x ^\\top W}}$$\n",
    "\n",
    "Softmax if more than one label:\n",
    "\n",
    "$$\n",
    "\\frac{1}{ \\sum_{j=1}^{L}{e^{ x ^\\top W_j }} }\n",
    "\\begin{bmatrix}\n",
    "e^{ x ^\\top W_1 } \\\\\n",
    "e^{ x ^\\top W_2 } \\\\\n",
    "\\vdots \\\\\n",
    "e^{ x ^\\top W_L } \\\\\n",
    "\\end{bmatrix}\n",
    "$$\n",
    "\n",
    "\n",
    "To optimise, log-loss function:\n",
    "\n",
    "$$E(X,y) = - \\frac{1}{n} \\sum_{i=1}^n  \\left( y_i \\log(f(X_i)) + (1 - y_i) \\log(1 - f(X_i))\\right)$$"
   ]
  },
  {
   "cell_type": "markdown",
   "metadata": {
    "slideshow": {
     "slide_type": "slide"
    }
   },
   "source": [
    "## Learn an autoencoder\n",
    "\n",
    "<img src=\"http://blog.wtf.sg/wp-content/uploads/2014/05/Screenshot-from-2014-05-09-233355.png\">"
   ]
  },
  {
   "cell_type": "code",
   "execution_count": 31,
   "metadata": {
    "collapsed": false,
    "slideshow": {
     "slide_type": "slide"
    }
   },
   "outputs": [
    {
     "data": {
      "text/plain": [
       "(X, <TensorType(float64, matrix)>, <TensorType(float64, vector)>)"
      ]
     },
     "execution_count": 31,
     "metadata": {},
     "output_type": "execute_result"
    }
   ],
   "source": [
    "# Prepare symbols\n",
    "X = T.matrix('X')\n",
    "W_hidden = theano.shared(np.random.randn(8,3))\n",
    "b_hidden = theano.shared(np.random.randn(3))\n",
    "b_output = theano.shared(np.random.randn(8))\n",
    "\n",
    "X,W_hidden,b_hidden # Symbolic elements"
   ]
  },
  {
   "cell_type": "code",
   "execution_count": 32,
   "metadata": {
    "collapsed": false
   },
   "outputs": [
    {
     "data": {
      "text/plain": [
       "(sigmoid.0, Softmax.0)"
      ]
     },
     "execution_count": 32,
     "metadata": {},
     "output_type": "execute_result"
    }
   ],
   "source": [
    "# Feedforward\n",
    "hidden_layer = T.nnet.sigmoid(T.dot(X,W_hidden) + b_hidden)\n",
    "output_layer = T.nnet.softmax(T.dot(hidden_layer,W_hidden.T) + b_output)  \n",
    "\n",
    "hidden_layer,output_layer # Symbolic elements"
   ]
  },
  {
   "cell_type": "code",
   "execution_count": 33,
   "metadata": {
    "collapsed": false
   },
   "outputs": [],
   "source": [
    "# Define cost.\n",
    "cross_entropy = - T.mean(\n",
    "    T.sum(X*T.log(output_layer) + (1-X)*T.log(1-output_layer),axis=1) # Sum cross-entropy across each training example\n",
    ")\n",
    "\n",
    "loss = cross_entropy + 0.001 * T.sum(W_hidden**2) # Add an L2 penalty"
   ]
  },
  {
   "cell_type": "markdown",
   "metadata": {
    "slideshow": {
     "slide_type": "slide"
    }
   },
   "source": [
    "## Automatic Differentiation\n",
    "\n",
    "In Theano, you can call ``T.grad`` on the expression with respect to (``wrt=``) the parameters in it.\n",
    "\n",
    "Once the gradients are computed, it's just the usual gradient descent step:\n",
    "\n",
    "$$w_i \\leftarrow w_i - \\varepsilon \\Delta w_i$$"
   ]
  },
  {
   "cell_type": "code",
   "execution_count": 34,
   "metadata": {
    "collapsed": false,
    "slideshow": {
     "slide_type": "fragment"
    }
   },
   "outputs": [],
   "source": [
    "# Calculate gradients on all tunable parameters\n",
    "parameters = [W_hidden,b_hidden,b_output]\n",
    "gradients = T.grad(loss,wrt=parameters)\n",
    "\n",
    "# Create update pairs\n",
    "updates = [ (w, w - 0.1 * delta_w) for w,delta_w in zip(parameters,gradients)]\n",
    "\n",
    "# Compile expression.\n",
    "train = theano.function(\n",
    "        inputs=[X],\n",
    "        updates = updates\n",
    ")"
   ]
  },
  {
   "cell_type": "code",
   "execution_count": 35,
   "metadata": {
    "collapsed": false,
    "slideshow": {
     "slide_type": "slide"
    }
   },
   "outputs": [
    {
     "data": {
      "text/plain": [
       "array([[1, 0, 0, 0, 0, 0, 0, 0],\n",
       "       [0, 1, 0, 0, 0, 0, 0, 0],\n",
       "       [0, 0, 1, 0, 0, 0, 0, 0],\n",
       "       [0, 0, 0, 1, 0, 0, 0, 0],\n",
       "       [0, 0, 0, 0, 1, 0, 0, 0],\n",
       "       [0, 0, 0, 0, 0, 1, 0, 0],\n",
       "       [0, 0, 0, 0, 0, 0, 1, 0],\n",
       "       [0, 0, 0, 0, 0, 0, 0, 1]], dtype=int32)"
      ]
     },
     "execution_count": 35,
     "metadata": {},
     "output_type": "execute_result"
    }
   ],
   "source": [
    "data = np.eye(8,dtype=np.int32)\n",
    "data"
   ]
  },
  {
   "cell_type": "code",
   "execution_count": 40,
   "metadata": {
    "collapsed": false
   },
   "outputs": [
    {
     "name": "stdout",
     "output_type": "stream",
     "text": [
      "Training...\n"
     ]
    }
   ],
   "source": [
    "print \"Training...\"\n",
    "for _ in xrange(100000):\n",
    "    train(data)"
   ]
  },
  {
   "cell_type": "code",
   "execution_count": 41,
   "metadata": {
    "collapsed": false,
    "slideshow": {
     "slide_type": "slide"
    }
   },
   "outputs": [
    {
     "data": {
      "text/plain": [
       "<matplotlib.figure.Figure at 0x7fef40037490>"
      ]
     },
     "execution_count": 41,
     "metadata": {},
     "output_type": "execute_result"
    },
    {
     "data": {
      "image/png": "[encoded data removed]",
      "text/plain": [
       "<matplotlib.figure.Figure at 0x7fef33513a50>"
      ]
     },
     "metadata": {},
     "output_type": "display_data"
    },
    {
     "data": {
      "text/plain": [
       "<matplotlib.figure.Figure at 0x7fef40037490>"
      ]
     },
     "metadata": {},
     "output_type": "display_data"
    }
   ],
   "source": [
    "representation = theano.function(\n",
    "    inputs=[X],\n",
    "    outputs=hidden_layer\n",
    ")\n",
    "\n",
    "import autoencoder\n",
    "autoencoder.hinton(representation(np.eye(8)))"
   ]
  },
  {
   "cell_type": "markdown",
   "metadata": {
    "slideshow": {
     "slide_type": "slide"
    }
   },
   "source": [
    "# Language Models using Neural Networks"
   ]
  },
  {
   "cell_type": "markdown",
   "metadata": {},
   "source": [
    "Language model - Probability of a sequence of words in a language:\n",
    "\n",
    "$$P(w_1,\\cdots,w_N)$$\n",
    "\n",
    "Approximation using a $k$-sized window:\n",
    "\n",
    "$$P(w_1,\\cdots,w_N) \\approx \\prod_{i=1}^{N} P(w_t|w_{t-1},w_{t-2},\\dots,w_{t-k})$$"
   ]
  },
  {
   "cell_type": "markdown",
   "metadata": {
    "slideshow": {
     "slide_type": "fragment"
    }
   },
   "source": [
    "We can create a neural network that takes in the previous $k$ words, and outputs the probabilities of all $|V|$ words:\n",
    "\n",
    "$$P(w_t|w_{t-1},w_{t-2},\\dots,w_{t-k}) := f(w_t,w_{t-1},w_{t-2},\\dots,w_{t-k})$$"
   ]
  },
  {
   "cell_type": "markdown",
   "metadata": {
    "slideshow": {
     "slide_type": "slide"
    }
   },
   "source": [
    "##Basic Language Model\n",
    "###[Bengio, Yoshua, et al. \"Neural probabilistic language models.\" Innovations in Machine Learning. Springer Berlin Heidelberg, 2006. 137-186.](http://machinelearning.wustl.edu/mlpapers/paper_files/BengioDVJ03.pdf)"
   ]
  },
  {
   "cell_type": "code",
   "execution_count": 9,
   "metadata": {
    "collapsed": false,
    "slideshow": {
     "slide_type": "slide"
    }
   },
   "outputs": [
    {
     "data": {
      "image/png": "[encoded data removed]",
      "text/plain": [
       "<IPython.core.display.Image object>"
      ]
     },
     "execution_count": 9,
     "metadata": {},
     "output_type": "execute_result"
    }
   ],
   "source": [
    "Image('images/bengiomodel.png')"
   ]
  },
  {
   "cell_type": "markdown",
   "metadata": {
    "slideshow": {
     "slide_type": "slide"
    }
   },
   "source": [
    "### Using a table lookup instead of one-hot vectors\n",
    "Using a one-hot vector to represent words allows us to continue using matrix multiplications, but it is equivalent to just extracting a single row out of the word-to-vector table.\n",
    "\n",
    "$$\n",
    "\\left[\\begin{matrix}\n",
    "0 \\\\\n",
    "\\vdots \\\\\n",
    "1 \\\\\n",
    "\\vdots\\\\\n",
    "0\n",
    "\\end{matrix} \\right]^{\\top}\n",
    "\\underbrace{\\left[\\begin{matrix}\n",
    "r_{0,0} & \\cdots & r_{0,d}\\\\\n",
    "&\\vdots& \\\\\n",
    "r_{i,0} & \\cdots & r_{i,d} \\\\\n",
    "&\\vdots&\\\\\n",
    "r_{|V|,0} & \\cdots & r_{|V|,d}\n",
    "\\end{matrix} \\right]}_{C}\n",
    "= \\left[r_{i,0} ~~ \\cdots ~~ r_{i,d}\\right] = C_i\n",
    "$$\n"
   ]
  },
  {
   "cell_type": "markdown",
   "metadata": {
    "slideshow": {
     "slide_type": "slide"
    }
   },
   "source": [
    "\n",
    "In a bag-of-words model, the input is no longer one-hot, but the same principle applies: just lookup the words in the bag and sum up their vectors\n",
    "\n",
    "$$\n",
    "\\left[\\begin{matrix}\n",
    "0 \\\\\n",
    "\\vdots \\\\\n",
    "1 \\\\\n",
    "\\vdots\\\\\n",
    "1\\\\\n",
    "\\vdots\\\\\n",
    "0\n",
    "\\end{matrix} \\right]^{\\top}\n",
    "\\underbrace{\\left[\\begin{matrix}\n",
    "r_{0,0} & \\cdots & r_{0,d}\\\\\n",
    "&\\vdots& \\\\\n",
    "r_{i,0} & \\cdots & r_{i,d} \\\\\n",
    "&\\vdots&\\\\\n",
    "r_{j,0} & \\cdots & r_{j,d} \\\\\n",
    "&\\vdots&\\\\\n",
    "r_{|V|,0} & \\cdots & r_{|V|,d}\n",
    "\\end{matrix} \\right]}_{C}\n",
    "= \\left[r_{i,0} + r_{j,0} ~~ \\cdots ~~ r_{i,d} + r_{j,d}\\right] = C_i + C_j\n",
    "$$\n",
    "\n",
    "Essential thing to remember is that the matrix $C$ is a parameter to be tuned as well."
   ]
  },
  {
   "cell_type": "markdown",
   "metadata": {
    "slideshow": {
     "slide_type": "slide"
    }
   },
   "source": [
    "## Indexing ~~abuse~~ kung-fu"
   ]
  },
  {
   "cell_type": "code",
   "execution_count": 10,
   "metadata": {
    "collapsed": false,
    "slideshow": {
     "slide_type": "-"
    }
   },
   "outputs": [
    {
     "data": {
      "text/plain": [
       "array([[ 1.,  0.,  0.],\n",
       "       [ 0.,  0.,  1.],\n",
       "       [ 0.,  1.,  0.],\n",
       "       [ 1.,  0.,  0.]])"
      ]
     },
     "execution_count": 10,
     "metadata": {},
     "output_type": "execute_result"
    }
   ],
   "source": [
    "A = T.eye(3)\n",
    "A[[0,2,1,0]].eval() # eval() lets me evaluate simple expressions without doing the whole theano.function() dance"
   ]
  },
  {
   "cell_type": "code",
   "execution_count": 11,
   "metadata": {
    "collapsed": false
   },
   "outputs": [
    {
     "data": {
      "text/plain": [
       "array([[[ 1.,  0.,  0.],\n",
       "        [ 0.,  1.,  0.],\n",
       "        [ 0.,  0.,  1.]],\n",
       "\n",
       "       [[ 0.,  0.,  1.],\n",
       "        [ 0.,  1.,  0.],\n",
       "        [ 1.,  0.,  0.]]])"
      ]
     },
     "execution_count": 11,
     "metadata": {},
     "output_type": "execute_result"
    }
   ],
   "source": [
    "A[[[0,1,2],[2,1,0]]].eval()"
   ]
  },
  {
   "cell_type": "markdown",
   "metadata": {},
   "source": [
    "## Training a language model"
   ]
  },
  {
   "cell_type": "code",
   "execution_count": 39,
   "metadata": {
    "collapsed": false,
    "slideshow": {
     "slide_type": "slide"
    }
   },
   "outputs": [
    {
     "name": "stdout",
     "output_type": "stream",
     "text": [
      "99000 tr.en\n",
      "the right to collective bargaining is exactly this , which is to establish a mechanism to ensure dialogues between employers and employees instead of unilateral talks or appeals .\n",
      "applications are now invited from stall operators who intend to sell hand-made arts and crafts items and nostalgic items , or other variety of goods ; or to operate arts-related activities such as sketching and painting at the promenade .\n",
      "nevertheless , there were others , such as the tenants ' organization \" snails without shells , \" which were originally well received but later ran out of steam and were unable to attain a high position .\n"
     ]
    }
   ],
   "source": [
    "%%bash\n",
    "wc -l tr.en\n",
    "head -n 3 tr.en"
   ]
  },
  {
   "cell_type": "code",
   "execution_count": 13,
   "metadata": {
    "collapsed": false
   },
   "outputs": [
    {
     "data": {
      "text/plain": [
       "48754"
      ]
     },
     "execution_count": 13,
     "metadata": {},
     "output_type": "execute_result"
    }
   ],
   "source": [
    "vocab = set(w for line in open('tr.en')\n",
    "              for w in line.strip().split())\n",
    "vocab_size = len(vocab)\n",
    "vocab_size"
   ]
  },
  {
   "cell_type": "code",
   "execution_count": 14,
   "metadata": {
    "collapsed": false,
    "slideshow": {
     "slide_type": "slide"
    }
   },
   "outputs": [
    {
     "data": {
      "text/plain": [
       "('fawn', 0)"
      ]
     },
     "execution_count": 14,
     "metadata": {},
     "output_type": "execute_result"
    }
   ],
   "source": [
    "# Index mapping\n",
    "word2idx = { w:i for i,w in enumerate(vocab) }\n",
    "word2idx.iteritems().next() # Gives me word to word-index"
   ]
  },
  {
   "cell_type": "code",
   "execution_count": 15,
   "metadata": {
    "collapsed": false,
    "scrolled": true
   },
   "outputs": [
    {
     "name": "stdout",
     "output_type": "stream",
     "text": [
      "[46084, 37138, 25882, 28731, 14299, 18739, 42176, 38957, 13352, 36135, 18739, 25882, 21943, 41276, 14720, 25882, 9688, 37108, 28569, 31582, 37005, 15209, 35927, 22767, 33574, 19778, 22780, 33701, 498]\n",
      "[13043, 47667, 4007, 27072, 11395, 47550, 47352, 21960, 745, 25882, 1875, 29008, 19487, 37005, 29045, 27451, 37005, 23830, 27451, 13352, 22780, 24320, 42426, 22767, 32592, 17531, 22780, 25882, 6193, 21074, 34994, 37448, 13606, 27245, 37005, 26975, 33227, 46084, 41463, 498]\n",
      "[8842, 13352, 14650, 19307, 44975, 13352, 37448, 13606, 46084, 44804, 2531, 44699, 10840, 35815, 10360, 45211, 13352, 10840, 36135, 19307, 878, 30186, 40071, 21251, 10154, 46054, 11555, 22767, 40041, 37005, 19307, 27793, 25882, 46615, 41276, 14526, 45507, 498]\n"
     ]
    }
   ],
   "source": [
    "def indexify(line):\n",
    "    return [ word2idx[w] for w in line.split() ]\n",
    "from itertools import izip\n",
    "for _,line in izip(xrange(3),open('tr.en')): print indexify(line)"
   ]
  },
  {
   "cell_type": "markdown",
   "metadata": {
    "slideshow": {
     "slide_type": "slide"
    }
   },
   "source": [
    "### Window of tokens"
   ]
  },
  {
   "cell_type": "code",
   "execution_count": 16,
   "metadata": {
    "collapsed": false
   },
   "outputs": [
    {
     "data": {
      "text/plain": [
       "array([0, 1, 2, 3, 4, 5, 6, 7, 8, 9], dtype=int8)"
      ]
     },
     "execution_count": 16,
     "metadata": {},
     "output_type": "execute_result"
    }
   ],
   "source": [
    "T.arange(10).eval()"
   ]
  },
  {
   "cell_type": "code",
   "execution_count": 17,
   "metadata": {
    "collapsed": false
   },
   "outputs": [
    {
     "data": {
      "text/plain": [
       "array([[0, 1, 2, 3, 4],\n",
       "       [1, 2, 3, 4, 5],\n",
       "       [2, 3, 4, 5, 6],\n",
       "       [3, 4, 5, 6, 7],\n",
       "       [4, 5, 6, 7, 8],\n",
       "       [5, 6, 7, 8, 9]], dtype=int8)"
      ]
     },
     "execution_count": 17,
     "metadata": {},
     "output_type": "execute_result"
    }
   ],
   "source": [
    "def window_indexer(window_size,string_length): # Function returns a symbol\n",
    "    window = T.arange(window_size)\n",
    "    window_start = T.arange(string_length-(window_size-1)).dimshuffle(0,'x')\n",
    "    return window_start + window\n",
    "window_indexer(5,10).eval()"
   ]
  },
  {
   "cell_type": "markdown",
   "metadata": {
    "slideshow": {
     "slide_type": "slide"
    }
   },
   "source": [
    "### To Theano!"
   ]
  },
  {
   "cell_type": "code",
   "execution_count": 18,
   "metadata": {
    "collapsed": false
   },
   "outputs": [],
   "source": [
    "# Prepare symbols...\n",
    "vector_dim = 10\n",
    "window_size = 5\n",
    "\n",
    "# This represents the variable holding the sequence of token indices\n",
    "idxs = T.ivector('idxs')\n",
    "\n",
    "# Lookup table matrix\n",
    "lookup_table = theano.shared(np.random.randn(vocab_size+1,vector_dim),name=\"lookup\") # +1 for padding"
   ]
  },
  {
   "cell_type": "code",
   "execution_count": 19,
   "metadata": {
    "collapsed": false,
    "slideshow": {
     "slide_type": "slide"
    }
   },
   "outputs": [
    {
     "data": {
      "text/plain": [
       "array([[-1, -1, -1, -1, 50],\n",
       "       [-1, -1, -1, 50, 10],\n",
       "       [-1, -1, 50, 10, 20],\n",
       "       [-1, 50, 10, 20, 31],\n",
       "       [50, 10, 20, 31, 41]])"
      ]
     },
     "execution_count": 19,
     "metadata": {},
     "output_type": "execute_result"
    }
   ],
   "source": [
    "idxs_padded = T.concatenate([[-1]*(window_size-1),idxs])\n",
    "windows = window_indexer(window_size,idxs_padded.shape[0])\n",
    "windowed_idxs = idxs_padded[windows]\n",
    "\n",
    "# Let's see what this looks like\n",
    "windowed_idxs.eval({idxs:[50,10,20,31,41]})"
   ]
  },
  {
   "cell_type": "code",
   "execution_count": 20,
   "metadata": {
    "collapsed": false,
    "slideshow": {
     "slide_type": "slide"
    }
   },
   "outputs": [
    {
     "data": {
      "text/plain": [
       "(5, 40)"
      ]
     },
     "execution_count": 20,
     "metadata": {},
     "output_type": "execute_result"
    }
   ],
   "source": [
    "# Extract features from the lookup table\n",
    "X = windowed_idxs[:,:-1]\n",
    "features = lookup_table[X] # sentence length x window_size - 1 x vector_dim\n",
    "# Concatenate the feature vectors together \n",
    "features = features.reshape((windowed_idxs.shape[0],(window_size - 1) * vector_dim))\n",
    "\n",
    "# Let's take a look at the output\n",
    "features.eval({idxs:[50,10,20,31,41]}).shape"
   ]
  },
  {
   "cell_type": "code",
   "execution_count": 38,
   "metadata": {
    "collapsed": false
   },
   "outputs": [
    {
     "data": {
      "text/plain": [
       "array([50, 10, 20, 31, 41])"
      ]
     },
     "execution_count": 38,
     "metadata": {},
     "output_type": "execute_result"
    }
   ],
   "source": [
    "# Let's use these as labels\n",
    "Y = windowed_idxs[:,-1]\n",
    "Y.eval({idxs:[50,10,20,31,41]})"
   ]
  },
  {
   "cell_type": "markdown",
   "metadata": {
    "slideshow": {
     "slide_type": "slide"
    }
   },
   "source": [
    "### Building the network"
   ]
  },
  {
   "cell_type": "code",
   "execution_count": 22,
   "metadata": {
    "collapsed": true,
    "slideshow": {
     "slide_type": "-"
    }
   },
   "outputs": [],
   "source": [
    "hidden_size = 50\n",
    "W_hidden = theano.shared(np.random.randn((window_size - 1) * vector_dim,hidden_size),name=\"W_hidden\")\n",
    "b_hidden = theano.shared(np.zeros((hidden_size,)),name=\"b_hidden\")\n",
    "W_output = theano.shared(np.zeros((hidden_size,vocab_size+1)),name=\"W_output\")\n",
    "b_output = theano.shared(np.zeros((vocab_size+1)),name=\"b_output\")"
   ]
  },
  {
   "cell_type": "code",
   "execution_count": 23,
   "metadata": {
    "collapsed": true
   },
   "outputs": [],
   "source": [
    "# Network\n",
    "hiddens = T.tanh(T.dot(features,W_hidden) + b_hidden)\n",
    "outputs = T.nnet.softmax(T.dot(hiddens,W_output) + b_output)\n",
    "\n",
    "cost = -T.mean(T.log(outputs[T.arange(Y.shape[0]),Y])) # -ve log likelihood"
   ]
  },
  {
   "cell_type": "code",
   "execution_count": 24,
   "metadata": {
    "collapsed": false,
    "slideshow": {
     "slide_type": "slide"
    }
   },
   "outputs": [],
   "source": [
    "parameters = [lookup_table,W_hidden,b_hidden,W_output,b_output]\n",
    "gradients  = T.grad(cost,wrt=parameters)\n",
    "\n",
    "train = theano.function(\n",
    "        inputs = [idxs],\n",
    "        outputs = cost,\n",
    "        updates = [ (p,p -  0.01 * g) for p,g in zip(parameters,gradients) ],\n",
    "    )"
   ]
  },
  {
   "cell_type": "code",
   "execution_count": 25,
   "metadata": {
    "collapsed": false,
    "slideshow": {
     "slide_type": "skip"
    }
   },
   "outputs": [],
   "source": [
    "#for line in open('tr.en'):train(indexify(line))"
   ]
  },
  {
   "cell_type": "code",
   "execution_count": 26,
   "metadata": {
    "collapsed": false,
    "slideshow": {
     "slide_type": "slide"
    }
   },
   "outputs": [
    {
     "data": {
      "image/png": "[encoded data removed]",
      "text/plain": [
       "<IPython.core.display.Image object>"
      ]
     },
     "execution_count": 26,
     "metadata": {},
     "output_type": "execute_result"
    }
   ],
   "source": [
    "Image('images/wordvec.png')"
   ]
  },
  {
   "cell_type": "markdown",
   "metadata": {
    "slideshow": {
     "slide_type": "slide"
    }
   },
   "source": [
    "# Ideas going forward..\n",
    "\n",
    "1. [Kaggle NLP Challenge: Billion Word Imputation](http://www.kaggle.com/c/billion-word-imputation)\n",
    "2. [Facebook bAbI Project](https://research.facebook.com/researchers/1543934539189348)\n",
    "3. [Sequence-to-sequence learning](http://arxiv.org/abs/1409.3215)\n"
   ]
  },
  {
   "cell_type": "markdown",
   "metadata": {
    "slideshow": {
     "slide_type": "slide"
    }
   },
   "source": [
    "# Resources\n",
    "\n",
    "1. [Geoffrey Hinton's class](https://www.coursera.org/course/neuralnets)\n",
    "2. [Hugo Larochelle's online course](http://info.usherbrooke.ca/hlarochelle/neural_networks/content.html)\n",
    "3. [Theano tutorials and documentation](http://deeplearning.net/software/theano/)\n",
    "4. [Manning and Socher's talk: NLP without magic](http://nlp.stanford.edu/courses/NAACL2013/)"
   ]
  }
 ],
 "metadata": {
  "celltoolbar": "Slideshow",
  "kernelspec": {
   "display_name": "Python 2",
   "language": "python",
   "name": "python2"
  },
  "language_info": {
   "codemirror_mode": {
    "name": "ipython",
    "version": 2
   },
   "file_extension": ".py",
   "mimetype": "text/x-python",
   "name": "python",
   "nbconvert_exporter": "python",
   "pygments_lexer": "ipython2",
   "version": "2.7.9"
  }
 },
 "nbformat": 4,
 "nbformat_minor": 0
}
